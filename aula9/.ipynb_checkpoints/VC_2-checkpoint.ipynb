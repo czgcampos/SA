{
 "cells": [
  {
   "cell_type": "code",
   "execution_count": 1,
   "metadata": {},
   "outputs": [
    {
     "name": "stderr",
     "output_type": "stream",
     "text": [
      "Using TensorFlow backend.\n"
     ]
    }
   ],
   "source": [
    "import numpy as np\n",
    "from keras.datasets import mnist\n",
    "from keras.models import Sequential\n",
    "from keras.layers import Dense\n",
    "from keras.utils import np_utils\n",
    "import matplotlib.pyplot as plt\n",
    "\n",
    "# fixar random seed para se puder reproduzir os resultados\n",
    "seed = 9\n",
    "np.random.seed(seed)"
   ]
  },
  {
   "cell_type": "code",
   "execution_count": 2,
   "metadata": {},
   "outputs": [],
   "source": [
    "# Etapa 1 - preparar o dataset\n",
    "'''\n",
    "fazer o download do MNIST dataset com imagens de digitos escritos à mão para fazer a\n",
    "sua classificação (já pré-preparados)\n",
    "dataset: https://s3.amazonaws.com/img-datasets/mnist.npz\n",
    "O ficheiro já tem tudo separado nos ficheiros {x_test.npy, x_train.npy, y_test.npy, y_train.npy}\n",
    "Os atributos de entrada estão com matrizes 3D (imagem,largura,altura) e os atributos de\n",
    "saída é uma lista com o número correspondente\n",
    "'''\n",
    "def load_mnist_dataset(path='mnist.npz'):\n",
    "    #path = get_file(path, origin='https://s3.amazonaws.com/img-datasets/mnist.npz')\n",
    "    f = np.load(path)\n",
    "    x_train = f['x_train']\n",
    "    y_train = f['y_train']\n",
    "    x_test = f['x_test']\n",
    "    y_test = f['y_test']\n",
    "    f.close()\n",
    "    return (x_train, y_train), (x_test, y_test)"
   ]
  },
  {
   "cell_type": "code",
   "execution_count": 3,
   "metadata": {},
   "outputs": [],
   "source": [
    "# Visualizar 6 imagens do mnist numa escala de cinzentos\n",
    "def visualize_mnist():\n",
    "    (X_train, y_train), (X_test, y_test) = load_mnist_dataset('mnist.npz')\n",
    "    plt.subplot(321)\n",
    "    plt.imshow(X_train[0], cmap=plt.get_cmap('gray'))\n",
    "    plt.subplot(322)\n",
    "    plt.imshow(X_train[1], cmap=plt.get_cmap('gray'))\n",
    "    plt.subplot(323)\n",
    "    plt.imshow(X_train[2], cmap=plt.get_cmap('gray'))\n",
    "    plt.subplot(324)\n",
    "    plt.imshow(X_train[3], cmap=plt.get_cmap('gray'))\n",
    "    plt.subplot(325)\n",
    "    plt.imshow(X_train[4], cmap=plt.get_cmap('gray'))\n",
    "    plt.subplot(326)\n",
    "    plt.imshow(X_train[5], cmap=plt.get_cmap('gray'))\n",
    "    plt.show()"
   ]
  },
  {
   "cell_type": "code",
   "execution_count": 4,
   "metadata": {},
   "outputs": [],
   "source": [
    "# Etapa 2 - Definir a topologia da rede (arquitectura do modelo) e compilar (multilayer_perceptrons)\n",
    "'''\n",
    "cria-se um modelo sequencial e vai-se acrescentando camadas (layers)\n",
    "vamos criar uma rede simples com uma camada escondida\n",
    "Dense class significa que teremos um modelo fully connected\n",
    "o primeiro parametro estabelece o número de neuronios na camada (num_pixeis na primeira)\n",
    "input_dim=num_pixeis indica o número de entradas do nosso dataset (num_pixeis atributos neste caso)\n",
    "kernel_initializer indica o metodo de inicialização dos pesos das ligações\n",
    "'nomal' sigifica com small number generator from Gaussion distribution\n",
    "\"activation\" indica a activation fuction\n",
    "'relu' rectifier linear unit activation function com range entre 0 e infinito\n",
    "'softmax' foi utilizada para garantir uma percentagem (valor entre 0 e 1) a totalizar entre\n",
    "todas as saidas o valor de 1\n",
    "Compile - loss - funcão a ser utilizada no calculo da diferença entre o pretendido e o obtido\n",
    "vamos utilizar logaritmic loss para classificação binária: 'categorical_crossentropy'\n",
    "o algoritmo de gradient descent será o “adam” pois é eficiente\n",
    "a métrica a ser utilizada no report durante o treino será 'accuracy' pois trata-se de um problema de\n",
    "classificacao\n",
    "'''\n",
    "def create_compile_model_mlp(num_pixels, num_classes):\n",
    "    model = Sequential()\n",
    "    model.add(Dense(num_pixels, input_dim=num_pixels, kernel_initializer='normal', activation='relu'))\n",
    "    model.add(Dense(num_classes, kernel_initializer='normal', activation='softmax'))\n",
    "    model.compile(loss='categorical_crossentropy', optimizer='adam', metrics=['accuracy'])\n",
    "    return model"
   ]
  },
  {
   "cell_type": "code",
   "execution_count": 5,
   "metadata": {},
   "outputs": [],
   "source": [
    "#util para visualizar a topologia da rede num ficheiro em pdf ou png\n",
    "def print_model(model,fich):\n",
    "    from keras.utils import plot_model\n",
    "    plot_model(model, to_file=fich, show_shapes=True, show_layer_names=True)"
   ]
  },
  {
   "cell_type": "code",
   "execution_count": 6,
   "metadata": {},
   "outputs": [],
   "source": [
    "#utils para visulaização do historial de aprendizagem\n",
    "def print_history_accuracy(history):\n",
    "    print(history.history.keys())\n",
    "    plt.plot(history.history['acc'])\n",
    "    plt.plot(history.history['val_acc'])\n",
    "    plt.title('model accuracy')\n",
    "    plt.ylabel('accuracy')\n",
    "    plt.xlabel('epoch')\n",
    "    plt.legend(['train', 'test'], loc='upper left')\n",
    "    plt.show()"
   ]
  },
  {
   "cell_type": "code",
   "execution_count": 7,
   "metadata": {},
   "outputs": [],
   "source": [
    "def print_history_loss(history):\n",
    "    print(history.history.keys())\n",
    "    plt.plot(history.history['loss'])\n",
    "    plt.plot(history.history['val_loss'])\n",
    "    plt.title('model loss')\n",
    "    plt.ylabel('loss')\n",
    "    plt.xlabel('epoch')\n",
    "    plt.legend(['train', 'test'], loc='upper left')\n",
    "    plt.show()"
   ]
  },
  {
   "cell_type": "code",
   "execution_count": 8,
   "metadata": {},
   "outputs": [],
   "source": [
    "def mnist_utilizando_mlp():\n",
    "    (X_train, y_train), (X_test, y_test) = load_mnist_dataset('mnist.npz')\n",
    "    # transformar a matriz 28*28 das imagens num vector com 784 atributos para cada imagem \n",
    "    # (porque é multilayer-perceptron)\n",
    "    num_pixels = X_train.shape[1] * X_train.shape[2]\n",
    "    X_train = X_train.reshape(X_train.shape[0], num_pixels).astype('float32')\n",
    "    X_test = X_test.reshape(X_test.shape[0], num_pixels).astype('float32')\n",
    "    # normalizar os valores dos pixeis de 0-255 para 0-1\n",
    "    X_train = X_train / 255\n",
    "    X_test = X_test / 255\n",
    "    # transformar o label que é um inteiro em categorias binárias, o valor passa a ser o correspondente \n",
    "    # à posição o 5 passa a ser a lista [0. 0. 0. 0. 0. 1. 0. 0. 0. 0.]\n",
    "    y_train = np_utils.to_categorical(y_train)\n",
    "    y_test = np_utils.to_categorical(y_test)\n",
    "    num_classes = y_test.shape[1]\n",
    "    # definir a topologia da rede e compilar\n",
    "    model = create_compile_model_mlp(num_pixels, num_classes)\n",
    "    print_model(model,\"model.png\")\n",
    "    # treinar a rede\n",
    "    history=model.fit(X_train, y_train, validation_data=(X_test, y_test), epochs=10, batch_size=200,verbose=2)\n",
    "    print_history_accuracy(history)\n",
    "    print_history_loss(history)\n",
    "    # Avaliação final com os casos de teste\n",
    "    scores = model.evaluate(X_test, y_test, verbose=0)\n",
    "    print('Scores: ', scores)\n",
    "    print(\"Erro modelo MLP: %.2f%%\" % (100-scores[1]*100))"
   ]
  },
  {
   "cell_type": "code",
   "execution_count": 9,
   "metadata": {},
   "outputs": [
    {
     "data": {
      "image/png": "[encoded data removed]",
      "text/plain": [
       "<Figure size 432x288 with 6 Axes>"
      ]
     },
     "metadata": {
      "needs_background": "light"
     },
     "output_type": "display_data"
    },
    {
     "name": "stdout",
     "output_type": "stream",
     "text": [
      "Train on 60000 samples, validate on 10000 samples\n",
      "Epoch 1/10\n",
      " - 34s - loss: 0.2752 - acc: 0.9213 - val_loss: 0.1345 - val_acc: 0.9616\n",
      "Epoch 2/10\n",
      " - 32s - loss: 0.1088 - acc: 0.9684 - val_loss: 0.0937 - val_acc: 0.9720\n",
      "Epoch 3/10\n",
      " - 32s - loss: 0.0697 - acc: 0.9800 - val_loss: 0.0840 - val_acc: 0.9727\n",
      "Epoch 4/10\n",
      " - 24s - loss: 0.0504 - acc: 0.9853 - val_loss: 0.0675 - val_acc: 0.9791\n",
      "Epoch 5/10\n",
      " - 25s - loss: 0.0363 - acc: 0.9900 - val_loss: 0.0691 - val_acc: 0.9791\n",
      "Epoch 6/10\n",
      " - 25s - loss: 0.0271 - acc: 0.9927 - val_loss: 0.0637 - val_acc: 0.9794\n",
      "Epoch 7/10\n",
      " - 24s - loss: 0.0200 - acc: 0.9949 - val_loss: 0.0555 - val_acc: 0.9831\n",
      "Epoch 8/10\n",
      " - 27s - loss: 0.0136 - acc: 0.9970 - val_loss: 0.0582 - val_acc: 0.9828\n",
      "Epoch 9/10\n",
      " - 25s - loss: 0.0102 - acc: 0.9980 - val_loss: 0.0575 - val_acc: 0.9832\n",
      "Epoch 10/10\n",
      " - 27s - loss: 0.0089 - acc: 0.9983 - val_loss: 0.0605 - val_acc: 0.9819\n",
      "dict_keys(['val_loss', 'val_acc', 'loss', 'acc'])\n"
     ]
    },
    {
     "data": {
      "image/png": "[encoded data removed]",
      "text/plain": [
       "<Figure size 432x288 with 1 Axes>"
      ]
     },
     "metadata": {
      "needs_background": "light"
     },
     "output_type": "display_data"
    },
    {
     "name": "stdout",
     "output_type": "stream",
     "text": [
      "dict_keys(['val_loss', 'val_acc', 'loss', 'acc'])\n"
     ]
    },
    {
     "data": {
      "image/png": "[encoded data removed]",
      "text/plain": [
       "<Figure size 432x288 with 1 Axes>"
      ]
     },
     "metadata": {
      "needs_background": "light"
     },
     "output_type": "display_data"
    },
    {
     "name": "stdout",
     "output_type": "stream",
     "text": [
      "Scores:  [0.06047192494951887, 0.9819]\n",
      "Erro modelo MLP: 1.81%\n"
     ]
    }
   ],
   "source": [
    "if __name__ == '__main__':\n",
    "    visualize_mnist()\n",
    "    mnist_utilizando_mlp()"
   ]
  }
 ],
 "metadata": {
  "kernelspec": {
   "display_name": "Python 3",
   "language": "python",
   "name": "python3"
  },
  "language_info": {
   "codemirror_mode": {
    "name": "ipython",
    "version": 3
   },
   "file_extension": ".py",
   "mimetype": "text/x-python",
   "name": "python",
   "nbconvert_exporter": "python",
   "pygments_lexer": "ipython3",
   "version": "3.6.8"
  }
 },
 "nbformat": 4,
 "nbformat_minor": 2
}
