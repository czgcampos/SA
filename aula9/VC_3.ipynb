{
 "cells": [
  {
   "cell_type": "code",
   "execution_count": 1,
   "metadata": {},
   "outputs": [
    {
     "name": "stderr",
     "output_type": "stream",
     "text": [
      "Using TensorFlow backend.\n"
     ]
    }
   ],
   "source": [
    "import numpy as np\n",
    "#from keras.datasets import mnist\n",
    "from keras.models import Sequential\n",
    "from keras.layers import Dense\n",
    "from keras.layers import Dropout\n",
    "from keras.layers import Flatten\n",
    "from keras.layers.convolutional import Conv2D\n",
    "from keras.layers.convolutional import MaxPooling2D\n",
    "from keras.utils import np_utils\n",
    "from keras import backend as K\n",
    "K.set_image_dim_ordering('th') #pode ser 'th' ou 'tf'\n",
    "import matplotlib.pyplot as plt\n",
    "\n",
    "# fixar random seed para se puder reproduzir os resultados\n",
    "seed = 9\n",
    "np.random.seed(seed)"
   ]
  },
  {
   "cell_type": "code",
   "execution_count": 2,
   "metadata": {},
   "outputs": [],
   "source": [
    "# Etapa 1 - preparar o dataset\n",
    "'''\n",
    "fazer o download do MNIST dataset com imagens de digitos escritos à mão para fazer a\n",
    "sua classificação (já pré-preparados)\n",
    "dataset: https://s3.amazonaws.com/img-datasets/mnist.npz\n",
    "O ficheiro já tem tudo separado nos ficheiros {x_test.npy, x_train.npy, y_test.npy,y_train.npy}\n",
    "Os atributos de entrada estão com matrizes 3D(imagem, largura,altura) e os atributos de\n",
    "saída é uma lista com o número correspondente\n",
    "'''\n",
    "def load_mnist_dataset(path='mnist.npz'):\n",
    "    #path = get_file(path, origin='https://s3.amazonaws.com/img-datasets/mnist.npz')\n",
    "    f = np.load(path)\n",
    "    x_train = f['x_train']\n",
    "    y_train = f['y_train']\n",
    "    x_test = f['x_test']\n",
    "    y_test = f['y_test']\n",
    "    f.close()\n",
    "    return (x_train, y_train), (x_test, y_test)"
   ]
  },
  {
   "cell_type": "code",
   "execution_count": 3,
   "metadata": {},
   "outputs": [],
   "source": [
    "# Etapa 2 - Definir a topologia da rede (arquitectura do modelo) e compilar \n",
    "'''\n",
    "criar uma rede neuronal convolucionária simples.\n",
    "- a primeira camada escondida é uma camada convolucionária chamada Convolution2D.\n",
    "A camada tem 32 feature maps , cada um de dimensão 5×5 e uma função de activação 'rectifier activation\n",
    "function'.\n",
    "trata-se de uma camada de input, à espera de imagens com a estrutura [pixels][width][height].\n",
    "- A segunda camada é de pooling que utiliza o max de MaxPooling2D.\n",
    "está configurado para uma pool size de 2×2.\n",
    "- A camada seguinte é de regularização que usa Dropout.\n",
    "Está configurado para excluir aleatóriamente 20% dos neuronios na camada para reduzir overfitting.\n",
    "- A camada seguinte converte os dados da matriz 2D num vector chamado Flatten.\n",
    "Assim permite-se que esse output seja tratado por uma camada completamente ligada standard.\n",
    "- A camada seguinte é uma completamente ligada com 128 neuronios e uma fução de activação 'rectifier activation\n",
    "function'.\n",
    "- Finalmente a camada de saida tem 10 neuronios correspondentes às 10 classes e uma função de activação softmax\n",
    "para apresentar na saida uma especie de probabilidade para cada classe.\n",
    "- O modelo é treinado utilizando logarithmic loss e o algoritmo de gradient descent ADAM.\n",
    "'''\n",
    "def create_compile_model_cnn_simples(num_classes):\n",
    "    model = Sequential()\n",
    "    model.add(Conv2D(32, (5, 5), input_shape=(1, 28, 28), activation='relu'))\n",
    "    model.add(MaxPooling2D(pool_size=(2, 2)))\n",
    "    model.add(Dropout(0.2))\n",
    "    model.add(Flatten())\n",
    "    model.add(Dense(128, activation='relu'))\n",
    "    model.add(Dense(num_classes, activation='softmax'))\n",
    "    model.compile(loss='categorical_crossentropy', optimizer='adam', metrics=['accuracy'])\n",
    "    return model"
   ]
  },
  {
   "cell_type": "code",
   "execution_count": 4,
   "metadata": {},
   "outputs": [],
   "source": [
    "# Etapa 2 - Definir a topologia da rede (arquitectura do modelo) e compilar \n",
    "'''\n",
    "criar uma rede neuronal convolucionária mais complexa.\n",
    "- Convolutional layer com 30 feature maps de dimensão 5×5.\n",
    "- Pooling layer que passa o máximo de 2*2 patches.\n",
    "- Convolutional layer com 15 feature maps de dimensão 3×3.\n",
    "- Pooling layer que passa o máximo de 2*2 patches.\n",
    "- Dropout layer com probabilidade de 20%.\n",
    "- Flatten layer.\n",
    "- Fully connected layer com 128 neuronios e activação rectifier.\n",
    "- Fully connected layer com 50 neuronios e activação rectifier.\n",
    "- Output layer.\n",
    "- O modelo é treinado utilizando logarithmic loss e o algoritmo de gradient descent ADAM.\n",
    "'''\n",
    "def create_compile_model_cnn_plus(num_classes):\n",
    "    model = Sequential()\n",
    "    model.add(Conv2D(30, (5, 5), input_shape=(1, 28, 28), activation='relu'))\n",
    "    model.add(MaxPooling2D(pool_size=(2, 2)))\n",
    "    model.add(Conv2D(15, (3, 3), activation='relu'))\n",
    "    model.add(MaxPooling2D(pool_size=(2, 2)))\n",
    "    model.add(Dropout(0.2))\n",
    "    model.add(Flatten())\n",
    "    model.add(Dense(128, activation='relu'))\n",
    "    model.add(Dense(50, activation='relu'))\n",
    "    model.add(Dense(num_classes, activation='softmax'))\n",
    "    # Compile model\n",
    "    model.compile(loss='categorical_crossentropy', optimizer='adam', metrics=['accuracy'])\n",
    "    return model"
   ]
  },
  {
   "cell_type": "code",
   "execution_count": 5,
   "metadata": {},
   "outputs": [],
   "source": [
    "#util para visualizar a topologia da rede num ficheiro em pdf ou png\n",
    "def print_model(model,fich):\n",
    "    from keras.utils import plot_model\n",
    "    plot_model(model, to_file=fich, show_shapes=True, show_layer_names=True)"
   ]
  },
  {
   "cell_type": "code",
   "execution_count": 6,
   "metadata": {},
   "outputs": [],
   "source": [
    "#utils para visulaização do historial de aprendizagem\n",
    "def print_history_accuracy(history):\n",
    "    print(history.history.keys())\n",
    "    plt.plot(history.history['acc'])\n",
    "    plt.plot(history.history['val_acc'])\n",
    "    plt.title('model accuracy')\n",
    "    plt.ylabel('accuracy')\n",
    "    plt.xlabel('epoch')\n",
    "    plt.legend(['train', 'test'], loc='upper left')\n",
    "    plt.show()"
   ]
  },
  {
   "cell_type": "code",
   "execution_count": 7,
   "metadata": {},
   "outputs": [],
   "source": [
    "def print_history_loss(history):\n",
    "    print(history.history.keys())\n",
    "    plt.plot(history.history['loss'])\n",
    "    plt.plot(history.history['val_loss'])\n",
    "    plt.title('model loss')\n",
    "    plt.ylabel('loss')\n",
    "    plt.xlabel('epoch')\n",
    "    plt.legend(['train', 'test'], loc='upper left')\n",
    "    plt.show()"
   ]
  },
  {
   "cell_type": "code",
   "execution_count": 8,
   "metadata": {},
   "outputs": [],
   "source": [
    "def mnist_utilizando_cnn_simples():\n",
    "    (X_train, y_train), (X_test, y_test) = load_mnist_dataset('mnist.npz')\n",
    "    # transformar para o formato [instancias][pixeis][largura][altura]\n",
    "    X_train = X_train.reshape(X_train.shape[0], 1, 28, 28).astype('float32')\n",
    "    X_test = X_test.reshape(X_test.shape[0], 1, 28, 28).astype('float32')\n",
    "    # normalizar os valores dos pixeis de 0-255 para 0-1\n",
    "    X_train = X_train / 255\n",
    "    X_test = X_test / 255\n",
    "    # transformar o label que é um inteiro em categorias binárias, o valor passa a ser o correspondente \n",
    "    # à posição, o 5 passa a ser a lista [0. 0. 0. 0. 0. 1. 0. 0. 0. 0.]\n",
    "    y_train = np_utils.to_categorical(y_train)\n",
    "    y_test = np_utils.to_categorical(y_test)\n",
    "    num_classes = y_test.shape[1]\n",
    "    # definir a topologia da rede e compilar\n",
    "    model = create_compile_model_cnn_simples(num_classes)\n",
    "    print_model(model,\"model_simples.png\")\n",
    "    # treinar a rede\n",
    "    history = model.fit(X_train,y_train,validation_data=(X_test,y_test),epochs=10,batch_size=200,verbose=2)\n",
    "    print_history_accuracy(history)\n",
    "    print_history_loss(history)\n",
    "    # Avaliação final com os casos de teste\n",
    "    scores = model.evaluate(X_test, y_test, verbose=0)\n",
    "    print('Scores: ', scores)\n",
    "    print(\"Erro modelo MLP: %.2f%%\" % (100-scores[1]*100))"
   ]
  },
  {
   "cell_type": "code",
   "execution_count": 9,
   "metadata": {},
   "outputs": [],
   "source": [
    "def mnist_utilizando_cnn_plus():\n",
    "    (X_train, y_train), (X_test, y_test) = load_mnist_dataset('mnist.npz')\n",
    "    # transformar para o formato [instancias][pixeis][largura][altura]\n",
    "    X_train = X_train.reshape(X_train.shape[0], 1, 28, 28).astype('float32')\n",
    "    X_test = X_test.reshape(X_test.shape[0], 1, 28, 28).astype('float32')\n",
    "    # normalizar os valores dos pixeis de 0-255 para 0-1\n",
    "    X_train = X_train / 255\n",
    "    X_test = X_test / 255\n",
    "    # transformar o label que é um inteiro em categorias binárias, o valor passa a ser o correspondente \n",
    "    # à posição, o 5 passa a ser a lista [0. 0. 0. 0. 0. 1. 0. 0. 0. 0.]\n",
    "    y_train = np_utils.to_categorical(y_train)\n",
    "    y_test = np_utils.to_categorical(y_test)\n",
    "    num_classes = y_test.shape[1]\n",
    "    # definir a topologia da rede e compilar\n",
    "    model = create_compile_model_cnn_plus(num_classes)\n",
    "    print_model(model,\"model_plus.png\")\n",
    "    # treinar a rede\n",
    "    history = model.fit(X_train,y_train,validation_data=(X_test,y_test),epochs=10,batch_size=200,verbose=2)\n",
    "    print_history_accuracy(history)\n",
    "    print_history_loss(history)\n",
    "    # Avaliação final com os casos de teste\n",
    "    scores = model.evaluate(X_test, y_test, verbose=0)\n",
    "    print('Scores: ', scores)\n",
    "    print(\"Erro modelo MLP: %.2f%%\" % (100-scores[1]*100))"
   ]
  },
  {
   "cell_type": "code",
   "execution_count": 10,
   "metadata": {},
   "outputs": [
    {
     "name": "stdout",
     "output_type": "stream",
     "text": [
      "Train on 60000 samples, validate on 10000 samples\n",
      "Epoch 1/10\n",
      " - 667s - loss: 0.2369 - acc: 0.9320 - val_loss: 0.0713 - val_acc: 0.9795\n",
      "Epoch 2/10\n",
      " - 649s - loss: 0.0701 - acc: 0.9790 - val_loss: 0.0487 - val_acc: 0.9848\n",
      "Epoch 3/10\n",
      " - 2283s - loss: 0.0493 - acc: 0.9852 - val_loss: 0.0362 - val_acc: 0.9884\n",
      "Epoch 4/10\n",
      " - 653s - loss: 0.0392 - acc: 0.9878 - val_loss: 0.0367 - val_acc: 0.9873\n",
      "Epoch 5/10\n",
      " - 668s - loss: 0.0329 - acc: 0.9896 - val_loss: 0.0344 - val_acc: 0.9892\n",
      "Epoch 6/10\n",
      " - 690s - loss: 0.0260 - acc: 0.9917 - val_loss: 0.0371 - val_acc: 0.9871\n",
      "Epoch 7/10\n",
      " - 705s - loss: 0.0222 - acc: 0.9931 - val_loss: 0.0319 - val_acc: 0.9897\n",
      "Epoch 8/10\n",
      " - 885s - loss: 0.0185 - acc: 0.9938 - val_loss: 0.0322 - val_acc: 0.9895\n",
      "Epoch 9/10\n",
      " - 690s - loss: 0.0160 - acc: 0.9950 - val_loss: 0.0340 - val_acc: 0.9892\n",
      "Epoch 10/10\n",
      " - 680s - loss: 0.0143 - acc: 0.9951 - val_loss: 0.0297 - val_acc: 0.9906\n",
      "dict_keys(['val_loss', 'val_acc', 'loss', 'acc'])\n"
     ]
    },
    {
     "data": {
      "image/png": "[encoded data removed]",
      "text/plain": [
       "<Figure size 432x288 with 1 Axes>"
      ]
     },
     "metadata": {
      "needs_background": "light"
     },
     "output_type": "display_data"
    },
    {
     "name": "stdout",
     "output_type": "stream",
     "text": [
      "dict_keys(['val_loss', 'val_acc', 'loss', 'acc'])\n"
     ]
    },
    {
     "data": {
      "image/png": "[encoded data removed]",
      "text/plain": [
       "<Figure size 432x288 with 1 Axes>"
      ]
     },
     "metadata": {
      "needs_background": "light"
     },
     "output_type": "display_data"
    },
    {
     "name": "stdout",
     "output_type": "stream",
     "text": [
      "Scores:  [0.029721726793855485, 0.9906]\n",
      "Erro modelo MLP: 0.94%\n",
      "=================================== PLUS ===================================\n",
      "Train on 60000 samples, validate on 10000 samples\n",
      "Epoch 1/10\n",
      " - 628s - loss: 0.3952 - acc: 0.8774 - val_loss: 0.0914 - val_acc: 0.9699\n",
      "Epoch 2/10\n",
      " - 625s - loss: 0.0973 - acc: 0.9702 - val_loss: 0.0617 - val_acc: 0.9806\n",
      "Epoch 3/10\n",
      " - 619s - loss: 0.0696 - acc: 0.9787 - val_loss: 0.0407 - val_acc: 0.9861\n",
      "Epoch 4/10\n",
      " - 632s - loss: 0.0590 - acc: 0.9820 - val_loss: 0.0322 - val_acc: 0.9896\n",
      "Epoch 5/10\n",
      " - 622s - loss: 0.0502 - acc: 0.9848 - val_loss: 0.0427 - val_acc: 0.9860\n",
      "Epoch 6/10\n",
      " - 619s - loss: 0.0438 - acc: 0.9857 - val_loss: 0.0309 - val_acc: 0.9905\n",
      "Epoch 7/10\n",
      " - 619s - loss: 0.0400 - acc: 0.9875 - val_loss: 0.0296 - val_acc: 0.9888\n",
      "Epoch 8/10\n",
      " - 617s - loss: 0.0355 - acc: 0.9885 - val_loss: 0.0271 - val_acc: 0.9914\n",
      "Epoch 9/10\n",
      " - 620s - loss: 0.0334 - acc: 0.9896 - val_loss: 0.0317 - val_acc: 0.9903\n",
      "Epoch 10/10\n",
      " - 628s - loss: 0.0301 - acc: 0.9902 - val_loss: 0.0282 - val_acc: 0.9900\n",
      "dict_keys(['val_loss', 'val_acc', 'loss', 'acc'])\n"
     ]
    },
    {
     "data": {
      "image/png": "[encoded data removed]",
      "text/plain": [
       "<Figure size 432x288 with 1 Axes>"
      ]
     },
     "metadata": {
      "needs_background": "light"
     },
     "output_type": "display_data"
    },
    {
     "name": "stdout",
     "output_type": "stream",
     "text": [
      "dict_keys(['val_loss', 'val_acc', 'loss', 'acc'])\n"
     ]
    },
    {
     "data": {
      "image/png": "[encoded data removed]",
      "text/plain": [
       "<Figure size 432x288 with 1 Axes>"
      ]
     },
     "metadata": {
      "needs_background": "light"
     },
     "output_type": "display_data"
    },
    {
     "name": "stdout",
     "output_type": "stream",
     "text": [
      "Scores:  [0.02818067006826168, 0.99]\n",
      "Erro modelo MLP: 1.00%\n"
     ]
    }
   ],
   "source": [
    "if __name__ == '__main__':\n",
    "    mnist_utilizando_cnn_simples()\n",
    "    print(\"=================================== PLUS ===================================\")\n",
    "    mnist_utilizando_cnn_plus()"
   ]
  }
 ],
 "metadata": {
  "kernelspec": {
   "display_name": "Python 3",
   "language": "python",
   "name": "python3"
  },
  "language_info": {
   "codemirror_mode": {
    "name": "ipython",
    "version": 3
   },
   "file_extension": ".py",
   "mimetype": "text/x-python",
   "name": "python",
   "nbconvert_exporter": "python",
   "pygments_lexer": "ipython3",
   "version": "3.6.8"
  }
 },
 "nbformat": 4,
 "nbformat_minor": 2
}
